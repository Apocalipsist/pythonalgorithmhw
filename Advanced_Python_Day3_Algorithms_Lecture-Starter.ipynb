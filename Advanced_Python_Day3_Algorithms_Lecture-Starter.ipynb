{
 "cells": [
  {
   "cell_type": "markdown",
   "metadata": {},
   "source": [
    "# Classic Algorithms"
   ]
  },
  {
   "cell_type": "markdown",
   "metadata": {},
   "source": [
    "## Tasks Today:\n",
    " \n",
    "1) <b>In-Place Algorithms</b> <br>\n",
    " &nbsp;&nbsp;&nbsp;&nbsp; a) Syntax <br>\n",
    " &nbsp;&nbsp;&nbsp;&nbsp; a) Out of Place Algorithm <br>\n",
    " &nbsp;&nbsp;&nbsp;&nbsp; b) In-Class Exercise #1 <br>\n",
    "2) <b>Two Pointers</b> <br>\n",
    "3) <b>Sorting Algorithms</b> <br>\n",
    "4) <b>Merge Sort</b> <br>\n",
    " &nbsp;&nbsp;&nbsp;&nbsp; a) Video on Algorithms <br>\n",
    " &nbsp;&nbsp;&nbsp;&nbsp; b) How it Works <br>\n",
    "5) <b>Exercises</b> <br>\n",
    " &nbsp;&nbsp;&nbsp;&nbsp; a) Exercise #1 - Reverse a List in Place Using an In-Place Algorithm <br>\n",
    " &nbsp;&nbsp;&nbsp;&nbsp; b) Exercise #2 - Find Distinct Words <br>\n",
    " &nbsp;&nbsp;&nbsp;&nbsp; c) Exercise #3 - Write a program to implement a Linear Search Algorithm. <br>"
   ]
  },
  {
   "cell_type": "code",
   "execution_count": null,
   "metadata": {},
   "outputs": [],
   "source": [
    "def find_first_index(a_list):\n",
    "    return a_list[0]\n",
    "\n",
    "print(find_first_index([i for i in range(10)]))\n",
    "print(find_first_index([i for i in range(100000)]))"
   ]
  },
  {
   "cell_type": "code",
   "execution_count": null,
   "metadata": {},
   "outputs": [],
   "source": [
    "def count_operations(n):\n",
    "    num_operations = 0\n",
    "    for i in range(n):\n",
    "        print(i)\n",
    "        num_operations += 1\n",
    "    return num_operations\n",
    "\n",
    "count_operations(15)"
   ]
  },
  {
   "cell_type": "code",
   "execution_count": 1,
   "metadata": {},
   "outputs": [
    {
     "name": "stdout",
     "output_type": "stream",
     "text": [
      "Help on class list in module builtins:\n",
      "\n",
      "class list(object)\n",
      " |  list(iterable=(), /)\n",
      " |  \n",
      " |  Built-in mutable sequence.\n",
      " |  \n",
      " |  If no argument is given, the constructor creates a new empty list.\n",
      " |  The argument must be an iterable if specified.\n",
      " |  \n",
      " |  Methods defined here:\n",
      " |  \n",
      " |  __add__(self, value, /)\n",
      " |      Return self+value.\n",
      " |  \n",
      " |  __contains__(self, key, /)\n",
      " |      Return key in self.\n",
      " |  \n",
      " |  __delitem__(self, key, /)\n",
      " |      Delete self[key].\n",
      " |  \n",
      " |  __eq__(self, value, /)\n",
      " |      Return self==value.\n",
      " |  \n",
      " |  __ge__(self, value, /)\n",
      " |      Return self>=value.\n",
      " |  \n",
      " |  __getattribute__(self, name, /)\n",
      " |      Return getattr(self, name).\n",
      " |  \n",
      " |  __getitem__(...)\n",
      " |      x.__getitem__(y) <==> x[y]\n",
      " |  \n",
      " |  __gt__(self, value, /)\n",
      " |      Return self>value.\n",
      " |  \n",
      " |  __iadd__(self, value, /)\n",
      " |      Implement self+=value.\n",
      " |  \n",
      " |  __imul__(self, value, /)\n",
      " |      Implement self*=value.\n",
      " |  \n",
      " |  __init__(self, /, *args, **kwargs)\n",
      " |      Initialize self.  See help(type(self)) for accurate signature.\n",
      " |  \n",
      " |  __iter__(self, /)\n",
      " |      Implement iter(self).\n",
      " |  \n",
      " |  __le__(self, value, /)\n",
      " |      Return self<=value.\n",
      " |  \n",
      " |  __len__(self, /)\n",
      " |      Return len(self).\n",
      " |  \n",
      " |  __lt__(self, value, /)\n",
      " |      Return self<value.\n",
      " |  \n",
      " |  __mul__(self, value, /)\n",
      " |      Return self*value.\n",
      " |  \n",
      " |  __ne__(self, value, /)\n",
      " |      Return self!=value.\n",
      " |  \n",
      " |  __repr__(self, /)\n",
      " |      Return repr(self).\n",
      " |  \n",
      " |  __reversed__(self, /)\n",
      " |      Return a reverse iterator over the list.\n",
      " |  \n",
      " |  __rmul__(self, value, /)\n",
      " |      Return value*self.\n",
      " |  \n",
      " |  __setitem__(self, key, value, /)\n",
      " |      Set self[key] to value.\n",
      " |  \n",
      " |  __sizeof__(self, /)\n",
      " |      Return the size of the list in memory, in bytes.\n",
      " |  \n",
      " |  append(self, object, /)\n",
      " |      Append object to the end of the list.\n",
      " |  \n",
      " |  clear(self, /)\n",
      " |      Remove all items from list.\n",
      " |  \n",
      " |  copy(self, /)\n",
      " |      Return a shallow copy of the list.\n",
      " |  \n",
      " |  count(self, value, /)\n",
      " |      Return number of occurrences of value.\n",
      " |  \n",
      " |  extend(self, iterable, /)\n",
      " |      Extend list by appending elements from the iterable.\n",
      " |  \n",
      " |  index(self, value, start=0, stop=9223372036854775807, /)\n",
      " |      Return first index of value.\n",
      " |      \n",
      " |      Raises ValueError if the value is not present.\n",
      " |  \n",
      " |  insert(self, index, object, /)\n",
      " |      Insert object before index.\n",
      " |  \n",
      " |  pop(self, index=-1, /)\n",
      " |      Remove and return item at index (default last).\n",
      " |      \n",
      " |      Raises IndexError if list is empty or index is out of range.\n",
      " |  \n",
      " |  remove(self, value, /)\n",
      " |      Remove first occurrence of value.\n",
      " |      \n",
      " |      Raises ValueError if the value is not present.\n",
      " |  \n",
      " |  reverse(self, /)\n",
      " |      Reverse *IN PLACE*.\n",
      " |  \n",
      " |  sort(self, /, *, key=None, reverse=False)\n",
      " |      Sort the list in ascending order and return None.\n",
      " |      \n",
      " |      The sort is in-place (i.e. the list itself is modified) and stable (i.e. the\n",
      " |      order of two equal elements is maintained).\n",
      " |      \n",
      " |      If a key function is given, apply it once to each list item and sort them,\n",
      " |      ascending or descending, according to their function values.\n",
      " |      \n",
      " |      The reverse flag can be set to sort in descending order.\n",
      " |  \n",
      " |  ----------------------------------------------------------------------\n",
      " |  Class methods defined here:\n",
      " |  \n",
      " |  __class_getitem__(...) from builtins.type\n",
      " |      See PEP 585\n",
      " |  \n",
      " |  ----------------------------------------------------------------------\n",
      " |  Static methods defined here:\n",
      " |  \n",
      " |  __new__(*args, **kwargs) from builtins.type\n",
      " |      Create and return a new object.  See help(type) for accurate signature.\n",
      " |  \n",
      " |  ----------------------------------------------------------------------\n",
      " |  Data and other attributes defined here:\n",
      " |  \n",
      " |  __hash__ = None\n",
      "\n"
     ]
    }
   ],
   "source": [
    "help(list)"
   ]
  },
  {
   "cell_type": "code",
   "execution_count": 3,
   "metadata": {},
   "outputs": [
    {
     "name": "stdout",
     "output_type": "stream",
     "text": [
      "2576787041792\n",
      "[0, 1, 2, 3, 4, 5, 7, 8]\n",
      "2576787041792\n"
     ]
    }
   ],
   "source": [
    "my_list = [2,5,4,8,1,0,3,7]\n",
    "print(id(my_list))\n",
    "def sort_my_list_in_place(a_list):   #contant space O(1): in place algorithm\n",
    "    a_list.sort()\n",
    "    name= \"Brian\"\n",
    "    return name\n",
    "    \n",
    "def sort_my_list_out_of_place(a_list):  #linear Space O(n) - Out of Place Algorithm\n",
    "    name='Brian'\n",
    "    return sorted(a_list)\n",
    "\n",
    "\n",
    "sort_my_list_in_place(my_list)\n",
    "print(my_list)\n",
    "print(id(my_list))"
   ]
  },
  {
   "cell_type": "markdown",
   "metadata": {},
   "source": [
    "## In-Place Algorithms"
   ]
  },
  {
   "cell_type": "markdown",
   "metadata": {},
   "source": [
    "#### Syntax"
   ]
  },
  {
   "cell_type": "code",
   "execution_count": 11,
   "metadata": {},
   "outputs": [
    {
     "name": "stdout",
     "output_type": "stream",
     "text": [
      "Before swap: [1, 2, 3, 4, 5]\n",
      "After swap:  [5, 2, 3, 4, 1]\n"
     ]
    }
   ],
   "source": [
    "list1 = [1,2,3,4,5]\n",
    "\n",
    "def swap(a_list,index_a,index_b):\n",
    "    temp = a_list[index_a]\n",
    "    a_list[index_a] = a_list[index_b]\n",
    "    a_list[index_b] = temp\n",
    " \n",
    "\n",
    "print(\"Before swap:\", list1)\n",
    "swap(list1,0,4)\n",
    "print(\"After swap: \", list1)"
   ]
  },
  {
   "cell_type": "code",
   "execution_count": 12,
   "metadata": {},
   "outputs": [
    {
     "name": "stdout",
     "output_type": "stream",
     "text": [
      "a: 1\n",
      "b: 2\n",
      "c: 3\n"
     ]
    }
   ],
   "source": [
    "# a_list[a], a_list[b] = a_list[b], a_list[a]\n",
    "a,b,c = 1,2,3\n",
    "\n",
    "print(\"a:\",a)\n",
    "print(\"b:\",b)\n",
    "print(\"c:\",c)"
   ]
  },
  {
   "cell_type": "code",
   "execution_count": 16,
   "metadata": {},
   "outputs": [
    {
     "name": "stdout",
     "output_type": "stream",
     "text": [
      "Before swap: [10, 20, 30, 40, 50]\n",
      "After swap:  [50, 20, 30, 40, 10]\n"
     ]
    }
   ],
   "source": [
    "def swap2(a_list, index_a, index_b):\n",
    "    a_list[index_a], a_list[index_b] = a_list[index_b], a_list[index_a]\n",
    "    \n",
    "    \n",
    "list2 =[10,20,30,40,50]\n",
    "\n",
    "print(\"Before swap:\", list2)\n",
    "swap2(list2,0,4)\n",
    "print(\"After swap: \", list2)"
   ]
  },
  {
   "cell_type": "markdown",
   "metadata": {},
   "source": [
    "#### Out of Place Algorithm"
   ]
  },
  {
   "cell_type": "code",
   "execution_count": null,
   "metadata": {},
   "outputs": [],
   "source": [
    "def out_of_place_swap(original_list, index1,index2):\n",
    "#     Create a copy of the original list\n",
    "    new_list = original_list[:]\n",
    "#     Set the calue at the index 1 of the new list to the value of index 2 of the original\n",
    "    new_list[index1] = original_list[index2]\n",
    "#     Set the value at index 2of the new list to the value of the index 1 of the original\n",
    "    new_list[index2] = original_list[index1]\n",
    "#     Return the newly created swapped list\n",
    "    return new_list\n",
    "\n",
    "list3 =[\"Blue\",\"Red\",\"Green\",\"Orange\",\"Purple\",\"Pink\",\"Cyan\"]\n",
    "\n",
    "print(\"Before swap:\", list3)\n",
    "new_list =out_of_place_swap(list3,0,6)\n",
    "print(\"After swap: \", list3)\n",
    "print(\"New List: \",new_list)\n"
   ]
  },
  {
   "cell_type": "code",
   "execution_count": null,
   "metadata": {},
   "outputs": [],
   "source": []
  },
  {
   "cell_type": "code",
   "execution_count": null,
   "metadata": {},
   "outputs": [],
   "source": []
  },
  {
   "cell_type": "markdown",
   "metadata": {},
   "source": [
    "#### In-Class Exercise #1 <br>\n",
    "<p>Write a function that takes in four arguments (a_list, index1, index2, index3), and swaps those three positions in the list passed in.</p>"
   ]
  },
  {
   "cell_type": "code",
   "execution_count": 21,
   "metadata": {},
   "outputs": [
    {
     "data": {
      "text/plain": [
       "[2, 3, 1, 4, 5, 6]"
      ]
     },
     "execution_count": 21,
     "metadata": {},
     "output_type": "execute_result"
    }
   ],
   "source": [
    "move3 = [1, 2, 3, 4, 5, 6]\n",
    "\n",
    "def swappin_words(a_list, index1, index2, index3):\n",
    "    a_list[index1], a_list[index2], a_list[index3] = a_list[index2], a_list[index3], a_list[index1] \n",
    "    return a_list\n",
    "\n",
    "\n",
    "swappin_words(move3, 0, 1, 2)"
   ]
  },
  {
   "cell_type": "markdown",
   "metadata": {},
   "source": [
    "## Two Pointers"
   ]
  },
  {
   "cell_type": "markdown",
   "metadata": {},
   "source": [
    "#### Syntax"
   ]
  },
  {
   "cell_type": "code",
   "execution_count": 22,
   "metadata": {},
   "outputs": [
    {
     "data": {
      "text/plain": [
       "[10, 9, 8, 7, 6, 5, 4, 3, 2, 1]"
      ]
     },
     "execution_count": 22,
     "metadata": {},
     "output_type": "execute_result"
    }
   ],
   "source": [
    "def swap_with_pointers(a_list):\n",
    "    #create two variables to point to the index that we want to swap\n",
    "    left = 0 #first element in the list\n",
    "    right = len(a_list) -1 #Last element of the list\n",
    "    #continue to swap the lef and right emelments until left is greater than right\n",
    "    while left < right:\n",
    "        a_list[left],a_list[right] = a_list[right],a_list[left]\n",
    "        left+=1\n",
    "        right-=1\n",
    "    return a_list\n",
    "\n",
    "\n",
    "my_forward_list = [1,2,3,4,5,6,7,8,9,10]\n",
    "\n",
    "\n",
    "swap_with_pointers(my_forward_list) #this permantly alters it In-Place-Algorithm"
   ]
  },
  {
   "cell_type": "code",
   "execution_count": 23,
   "metadata": {},
   "outputs": [
    {
     "name": "stdout",
     "output_type": "stream",
     "text": [
      "[10, 9, 8, 7, 6, 5, 4, 3, 2, 1]\n"
     ]
    }
   ],
   "source": [
    "print(my_forward_list)"
   ]
  },
  {
   "cell_type": "markdown",
   "metadata": {},
   "source": [
    "# Sorting Algorithms"
   ]
  },
  {
   "cell_type": "code",
   "execution_count": 40,
   "metadata": {
    "scrolled": true
   },
   "outputs": [
    {
     "name": "stdout",
     "output_type": "stream",
     "text": [
      "[47, 30, 34, 7, 1, 12, 22, 20, 3, 48]\n"
     ]
    }
   ],
   "source": [
    "import random\n",
    "list_to_sort = [random.randint(1,50) for n in range(10)]\n",
    "\n",
    "print(list_to_sort)"
   ]
  },
  {
   "cell_type": "markdown",
   "metadata": {},
   "source": [
    "#### Bubble Sort\n",
    "\n",
    "Worst Case: O(n^2) Time - O(1) Space"
   ]
  },
  {
   "cell_type": "code",
   "execution_count": 30,
   "metadata": {},
   "outputs": [
    {
     "data": {
      "text/plain": [
       "[1, 14, 14, 20, 34, 35, 37, 45, 45, 48]"
      ]
     },
     "execution_count": 30,
     "metadata": {},
     "output_type": "execute_result"
    }
   ],
   "source": [
    "\n",
    "\n",
    "\n",
    "def bubble_sort(lst):\n",
    "    #When we first start, assume the list is unsorted\n",
    "    is_sorted = False\n",
    "    #Contine to loop through anmd bubble the largest values to the top if the list is unsorted\n",
    "    while not is_sorted:\n",
    "        #Begin the for loop with the assumption that the list is sorted\n",
    "        is_sorted = True\n",
    "        #Loop through the lsit using it's index\n",
    "        for idx in range(len(lst)-1):\n",
    "            #if the list at index idx is greater than the value to its right (idx +1)\n",
    "            if lst[idx] > lst[idx+1]:\n",
    "                #Swap the two values\n",
    "                lst[idx], lst[idx+1] = lst[idx+1], lst[idx]\n",
    "                #if we do have to swap, that tells us that our list is unsorted\n",
    "                is_sorted = False\n",
    "    #once the list is sorted\n",
    "    return lst\n",
    "\n",
    "    \n",
    "    \n",
    "list_to_sort = [45, 48, 45, 34, 14, 1, 35, 14, 37, 20]\n",
    "\n",
    "\n",
    "bubble_sort(list_to_sort)"
   ]
  },
  {
   "cell_type": "markdown",
   "metadata": {},
   "source": [
    "##### Insertion Sort\n",
    "\n",
    "Worst Case: O(n^2) time - O(1)space"
   ]
  },
  {
   "cell_type": "code",
   "execution_count": 35,
   "metadata": {},
   "outputs": [],
   "source": [
    "list3= [39, 28, 42, 40, 50, 26, 15, 37, 47, 26]"
   ]
  },
  {
   "cell_type": "code",
   "execution_count": 39,
   "metadata": {},
   "outputs": [
    {
     "data": {
      "text/plain": [
       "[15, 26, 26, 28, 37, 39, 40, 42, 47, 50]"
      ]
     },
     "execution_count": 39,
     "metadata": {},
     "output_type": "execute_result"
    }
   ],
   "source": [
    "def insertion_sort(lst):\n",
    "    #Loop over the unordered section (start at 1 because the 0-index is sorted)\n",
    "    for i in range(1,len(lst)):\n",
    "        #while we're notat the front of the list and the element is less than the element to its left\n",
    "        while i > 0 and lst[i] < lst[i-1]:\n",
    "            #swap those elements\n",
    "            lst[i], lst[i-1] = lst[i-1], lst[i]\n",
    "            #love the pointer left one element(to match our element)\n",
    "            i-=1\n",
    "    #Once we have looped through every element and repositioned it we return it\n",
    "    return lst\n",
    "\n",
    "\n",
    "        \n",
    "insertion_sort(list3)"
   ]
  },
  {
   "cell_type": "markdown",
   "metadata": {},
   "source": [
    "## Merge Sort"
   ]
  },
  {
   "cell_type": "markdown",
   "metadata": {},
   "source": [
    "#### How it Works"
   ]
  },
  {
   "cell_type": "code",
   "execution_count": 42,
   "metadata": {},
   "outputs": [
    {
     "name": "stdout",
     "output_type": "stream",
     "text": [
      "[2, 38, 36, 16, 29, 3, 2, 11, 25, 12]\n"
     ]
    }
   ],
   "source": [
    "list_sort3 = [random.randint(1,50) for n in range(10)]\n",
    "\n",
    "print(list_sort3)"
   ]
  },
  {
   "cell_type": "code",
   "execution_count": 45,
   "metadata": {},
   "outputs": [
    {
     "ename": "IndexError",
     "evalue": "list assignment index out of range",
     "output_type": "error",
     "traceback": [
      "\u001b[1;31m---------------------------------------------------------------------------\u001b[0m",
      "\u001b[1;31mIndexError\u001b[0m                                Traceback (most recent call last)",
      "Input \u001b[1;32mIn [45]\u001b[0m, in \u001b[0;36m<cell line: 50>\u001b[1;34m()\u001b[0m\n\u001b[0;32m     45\u001b[0m             m\u001b[38;5;241m+\u001b[39m\u001b[38;5;241m=\u001b[39m\u001b[38;5;241m1\u001b[39m\n\u001b[0;32m     46\u001b[0m     \u001b[38;5;28;01mreturn\u001b[39;00m lst\n\u001b[1;32m---> 50\u001b[0m \u001b[43mmerge_sort\u001b[49m\u001b[43m(\u001b[49m\u001b[43mlist_sort3\u001b[49m\u001b[43m)\u001b[49m\n",
      "Input \u001b[1;32mIn [45]\u001b[0m, in \u001b[0;36mmerge_sort\u001b[1;34m(lst)\u001b[0m\n\u001b[0;32m      9\u001b[0m right_half \u001b[38;5;241m=\u001b[39m lst[midway:]\n\u001b[0;32m     11\u001b[0m \u001b[38;5;66;03m#Recursively call merge_sort on the left half of the lst\u001b[39;00m\n\u001b[1;32m---> 12\u001b[0m \u001b[43mmerge_sort\u001b[49m\u001b[43m(\u001b[49m\u001b[43mleft_half\u001b[49m\u001b[43m)\u001b[49m\n\u001b[0;32m     13\u001b[0m \u001b[38;5;66;03m#Once the left half has finished its execution, call merge_sort on the right half\u001b[39;00m\n\u001b[0;32m     14\u001b[0m merge_sort(right_half)\n",
      "Input \u001b[1;32mIn [45]\u001b[0m, in \u001b[0;36mmerge_sort\u001b[1;34m(lst)\u001b[0m\n\u001b[0;32m     12\u001b[0m merge_sort(left_half)\n\u001b[0;32m     13\u001b[0m \u001b[38;5;66;03m#Once the left half has finished its execution, call merge_sort on the right half\u001b[39;00m\n\u001b[1;32m---> 14\u001b[0m \u001b[43mmerge_sort\u001b[49m\u001b[43m(\u001b[49m\u001b[43mright_half\u001b[49m\u001b[43m)\u001b[49m\n\u001b[0;32m     16\u001b[0m \u001b[38;5;66;03m#Merge the left and right half back into the main list using pointers\u001b[39;00m\n\u001b[0;32m     17\u001b[0m l\u001b[38;5;241m=\u001b[39m\u001b[38;5;241m0\u001b[39m \u001b[38;5;66;03m# pointer for the left half list\u001b[39;00m\n",
      "Input \u001b[1;32mIn [45]\u001b[0m, in \u001b[0;36mmerge_sort\u001b[1;34m(lst)\u001b[0m\n\u001b[0;32m     36\u001b[0m     m\u001b[38;5;241m+\u001b[39m\u001b[38;5;241m=\u001b[39m\u001b[38;5;241m1\u001b[39m\n\u001b[0;32m     38\u001b[0m \u001b[38;5;28;01mwhile\u001b[39;00m l \u001b[38;5;241m<\u001b[39m \u001b[38;5;28mlen\u001b[39m(left_half):\n\u001b[1;32m---> 39\u001b[0m     lst[m] \u001b[38;5;241m=\u001b[39m left_half[l]\n\u001b[0;32m     40\u001b[0m     r\u001b[38;5;241m+\u001b[39m\u001b[38;5;241m=\u001b[39m\u001b[38;5;241m1\u001b[39m\n\u001b[0;32m     41\u001b[0m     m\u001b[38;5;241m+\u001b[39m\u001b[38;5;241m=\u001b[39m\u001b[38;5;241m1\u001b[39m\n",
      "\u001b[1;31mIndexError\u001b[0m: list assignment index out of range"
     ]
    }
   ],
   "source": [
    "def merge_sort(lst):\n",
    "    #if the list is larger than 1 element, split the list\n",
    "    if len(lst) >1:\n",
    "        #find the midway point\n",
    "        midway = len(lst) //2\n",
    "        #Slice the list from the beginning to the midway point\n",
    "        left_half = lst[:midway]\n",
    "        #Slice the list from the midway point to the end\n",
    "        right_half = lst[midway:]\n",
    "        \n",
    "        #Recursively call merge_sort on the left half of the lst\n",
    "        merge_sort(left_half)\n",
    "        #Once the left half has finished its execution, call merge_sort on the right half\n",
    "        merge_sort(right_half)\n",
    "        \n",
    "        #Merge the left and right half back into the main list using pointers\n",
    "        l=0 # pointer for the left half list\n",
    "        r=0 # pointer for the right half list\n",
    "        m=0 # pointer for the main list\n",
    "        \n",
    "        #While our left and right pointers are still pointing at valid indices\n",
    "        while l < len(left_half) and r < len(right_half):\n",
    "            #If the element in the left list is less than the element in the right list\n",
    "            if left_half[l] <= right_half[r]:\n",
    "                #Place the left elementin the main list\n",
    "                lst[m]=left_half[l]\n",
    "                # Move the left list pointer to the right one element\n",
    "                l+=1\n",
    "            # IF the element in the right list is less than the element in left list \n",
    "            else:\n",
    "                #Place the right elementin the main list\n",
    "                lst[m] = right_half[r]\n",
    "                # Move the right list pointer to the right one element\n",
    "                r+=1\n",
    "            #Either way, always move the main pointer to the right one element\n",
    "            m+=1\n",
    "            \n",
    "        while l < len(left_half):\n",
    "            lst[m] = left_half[l]\n",
    "            r+=1\n",
    "            m+=1\n",
    "        while r <len(right_half):\n",
    "            lst[m] = right_half[r]\n",
    "            r+=1\n",
    "            m+=1\n",
    "    return lst\n",
    "        \n",
    "    \n",
    "\n",
    "merge_sort(list_sort3)           "
   ]
  },
  {
   "cell_type": "markdown",
   "metadata": {},
   "source": [
    "# Binary Search\n",
    "\n",
    "The Binary Search algorithm works by finding the number in the middle of a given array and comparing it to the target. **Given that the array is sorted**\n",
    "\n",
    "* The worst case run time for this algorithm is `O(log(n))`"
   ]
  },
  {
   "cell_type": "code",
   "execution_count": null,
   "metadata": {},
   "outputs": [],
   "source": [
    "# Less == Left\n",
    "# Greater == Right\n",
    "# List of numbers MUST be sorted\n",
    "\n",
    "\n",
    "def binary_search(lst, target_element):\n",
    "    #Set a low and high pointer\n",
    "    low = 0 #lowerst index of lst\n",
    "    hight = len(lst) -1 #Highest index of lst\n",
    "    #While the value of the low pointer is less than or equal to the hight pointer\n",
    "    While low <= high:\n",
    "        #Find the midway point between low and high\n",
    "        mid = (low + high) // 2\n",
    "        #Check if the midway point is equal to our target\n",
    "        if lst[mid] == target_element:\n",
    "            return \"\"\n",
    "            #Set the high point to one less than our mid point\n",
    "            high = mid - 1\n",
    "        #If \n",
    "        else:\n",
    "\n"
   ]
  },
  {
   "cell_type": "markdown",
   "metadata": {},
   "source": [
    "# Exercises"
   ]
  },
  {
   "cell_type": "markdown",
   "metadata": {},
   "source": [
    "### Exercise #1 <br>\n",
    "<p>Reverse the list below in-place using an in-place algorithm.<br>For extra credit: Reverse the strings at the same time.</p>"
   ]
  },
  {
   "cell_type": "code",
   "execution_count": 90,
   "metadata": {
    "scrolled": true
   },
   "outputs": [
    {
     "name": "stdout",
     "output_type": "stream",
     "text": [
      "['.', 'sentence', 'a', 'is', 'this']\n",
      "['.', 'ecnetnes', 'a', 'si', 'siht']\n"
     ]
    }
   ],
   "source": [
    "words = ['this' , 'is', 'a', 'sentence', '.']\n",
    "\n",
    "\n",
    "def swap(word, index0, index1, index2, index3, index4):\n",
    "    word[index0], word[index1], word[index2], word[index3], word[index4] = word[index4], word[index3], word[index2], word[index1], word[index0]\n",
    "    print(word)\n",
    "    reversed_list= []\n",
    "    for s in word:\n",
    "        reversed_list.append(s[::-1])\n",
    "    print(reversed_list)\n",
    "\n",
    "swap(words, 0, 1, 2, 3, 4)"
   ]
  },
  {
   "cell_type": "markdown",
   "metadata": {},
   "source": [
    "### Exercise #2 <br>\n",
    "<p>Create a function that counts how many distinct words are in the string below, then outputs a dictionary with the words as the key and the value as the amount of times that word appears in the string.</p>\n",
    "Example Output:<code>{'in': 1, 'computing': 1, 'a': 5, ...}</code>"
   ]
  },
  {
   "cell_type": "code",
   "execution_count": 149,
   "metadata": {},
   "outputs": [
    {
     "data": {
      "text/plain": [
       "{'In': 1,\n",
       " 'computing': 1,\n",
       " 'a': 4,\n",
       " 'hash': 4,\n",
       " 'table': 2,\n",
       " 'map': 2,\n",
       " 'is': 1,\n",
       " 'data': 2,\n",
       " 'structure': 2,\n",
       " 'which': 2,\n",
       " 'implements': 1,\n",
       " 'an': 3,\n",
       " 'associative': 1,\n",
       " 'array': 2,\n",
       " 'abstract': 1,\n",
       " 'type': 1,\n",
       " 'that': 1,\n",
       " 'can': 2,\n",
       " 'keys': 1,\n",
       " 'to': 2,\n",
       " 'values': 1,\n",
       " 'A': 1,\n",
       " 'uses': 1,\n",
       " 'function': 1,\n",
       " 'compute': 1,\n",
       " 'index': 1,\n",
       " 'into': 1,\n",
       " 'of': 1,\n",
       " 'buckets': 1,\n",
       " 'or': 1,\n",
       " 'slots': 1,\n",
       " 'from': 1,\n",
       " 'the': 1,\n",
       " 'desired': 1,\n",
       " 'value': 1,\n",
       " 'be': 1,\n",
       " 'found': 1}"
      ]
     },
     "execution_count": 149,
     "metadata": {},
     "output_type": "execute_result"
    }
   ],
   "source": [
    "a_text = 'In computing, a hash table hash map is a data structure which implements an associative array abstract data type, a structure that can map keys to values. A hash table uses a hash function to compute an index into an array of buckets or slots from which the desired value can be found'\n",
    "\n",
    "word_dict = {}\n",
    "\n",
    "def count_words(word):\n",
    "    key = word.split()\n",
    "    \n",
    "    word_dict = {}\n",
    "    for text in key:\n",
    "        if text in word_dict:\n",
    "            word_dict[text.strip(\",.\")] +=1\n",
    "        else:\n",
    "            word_dict[text.strip(\",.\")] = 1\n",
    "    return word_dict\n",
    "    \n",
    "count_words(a_text)"
   ]
  },
  {
   "cell_type": "markdown",
   "metadata": {},
   "source": [
    "## Exercise #3\n",
    "\n",
    "Write a function implementing a Linear Search Algorithm. A linear search is a method for finding an element within a list. It sequentially checks each element of the list until a match is found or the whole list has been searched. If you do not find a match, return -1"
   ]
  },
  {
   "cell_type": "code",
   "execution_count": 164,
   "metadata": {},
   "outputs": [
    {
     "data": {
      "text/plain": [
       "-1"
      ]
     },
     "execution_count": 164,
     "metadata": {},
     "output_type": "execute_result"
    }
   ],
   "source": [
    "nums_list = [10,23,45,70,11,15]\n",
    "target = 70\n",
    "\n",
    "# If number is not present return -1\n",
    "\n",
    "def num_search(lst, target):\n",
    "    for i in lst:\n",
    "        if target == i:\n",
    "            return i\n",
    "    else:\n",
    "        return -1\n",
    "\n",
    "            \n",
    "num_search(nums_list,target)\n",
    "    \n",
    "    \n",
    "# search = (lambda x, targets: -1 if targets != x[::1] else x)\n",
    "\n",
    "# print(search(nums_list, 70))"
   ]
  },
  {
   "cell_type": "code",
   "execution_count": null,
   "metadata": {},
   "outputs": [],
   "source": []
  },
  {
   "cell_type": "code",
   "execution_count": null,
   "metadata": {},
   "outputs": [],
   "source": []
  }
 ],
 "metadata": {
  "kernelspec": {
   "display_name": "Python 3 (ipykernel)",
   "language": "python",
   "name": "python3"
  },
  "language_info": {
   "codemirror_mode": {
    "name": "ipython",
    "version": 3
   },
   "file_extension": ".py",
   "mimetype": "text/x-python",
   "name": "python",
   "nbconvert_exporter": "python",
   "pygments_lexer": "ipython3",
   "version": "3.9.12"
  }
 },
 "nbformat": 4,
 "nbformat_minor": 2
}
